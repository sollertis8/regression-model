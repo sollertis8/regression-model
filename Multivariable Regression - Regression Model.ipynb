{
 "cells": [
  {
   "cell_type": "code",
   "execution_count": 11,
   "metadata": {
    "collapsed": false
   },
   "outputs": [
    {
     "data": {
      "text/html": [
       "<div>\n",
       "<table border=\"1\" class=\"dataframe\">\n",
       "  <thead>\n",
       "    <tr style=\"text-align: right;\">\n",
       "      <th></th>\n",
       "      <th>﻿Table 8</th>\n",
       "      <th>Unnamed: 1</th>\n",
       "      <th>Unnamed: 2</th>\n",
       "      <th>Unnamed: 3</th>\n",
       "      <th>Unnamed: 4</th>\n",
       "      <th>Unnamed: 5</th>\n",
       "      <th>Unnamed: 6</th>\n",
       "      <th>Unnamed: 7</th>\n",
       "      <th>Unnamed: 8</th>\n",
       "      <th>Unnamed: 9</th>\n",
       "      <th>Unnamed: 10</th>\n",
       "      <th>Unnamed: 11</th>\n",
       "      <th>Unnamed: 12</th>\n",
       "      <th>Unnamed: 13</th>\n",
       "    </tr>\n",
       "  </thead>\n",
       "  <tbody>\n",
       "    <tr>\n",
       "      <th>0</th>\n",
       "      <td>NEW YORK</td>\n",
       "      <td>NaN</td>\n",
       "      <td>NaN</td>\n",
       "      <td>NaN</td>\n",
       "      <td>NaN</td>\n",
       "      <td>NaN</td>\n",
       "      <td>NaN</td>\n",
       "      <td>NaN</td>\n",
       "      <td>NaN</td>\n",
       "      <td>NaN</td>\n",
       "      <td>NaN</td>\n",
       "      <td>NaN</td>\n",
       "      <td>NaN</td>\n",
       "      <td>nan</td>\n",
       "    </tr>\n",
       "    <tr>\n",
       "      <th>1</th>\n",
       "      <td>Offenses Known to Law Enforcement</td>\n",
       "      <td>NaN</td>\n",
       "      <td>NaN</td>\n",
       "      <td>NaN</td>\n",
       "      <td>NaN</td>\n",
       "      <td></td>\n",
       "      <td>NaN</td>\n",
       "      <td>NaN</td>\n",
       "      <td>NaN</td>\n",
       "      <td>NaN</td>\n",
       "      <td>NaN</td>\n",
       "      <td>NaN</td>\n",
       "      <td>NaN</td>\n",
       "      <td>nan</td>\n",
       "    </tr>\n",
       "    <tr>\n",
       "      <th>2</th>\n",
       "      <td>by City, 2013</td>\n",
       "      <td>NaN</td>\n",
       "      <td>NaN</td>\n",
       "      <td>NaN</td>\n",
       "      <td>NaN</td>\n",
       "      <td>NaN</td>\n",
       "      <td>NaN</td>\n",
       "      <td>NaN</td>\n",
       "      <td>NaN</td>\n",
       "      <td>NaN</td>\n",
       "      <td>NaN</td>\n",
       "      <td>NaN</td>\n",
       "      <td>NaN</td>\n",
       "      <td>nan</td>\n",
       "    </tr>\n",
       "    <tr>\n",
       "      <th>3</th>\n",
       "      <td>City</td>\n",
       "      <td>Population</td>\n",
       "      <td>Violent\\ncrime</td>\n",
       "      <td>Murder and\\nnonnegligent\\nmanslaughter</td>\n",
       "      <td>Rape\\n(revised\\ndefinition)1</td>\n",
       "      <td>Rape\\n(legacy\\ndefinition)2</td>\n",
       "      <td>Robbery</td>\n",
       "      <td>Aggravated\\nassault</td>\n",
       "      <td>Property\\ncrime</td>\n",
       "      <td>Burglary</td>\n",
       "      <td>Larceny-\\ntheft</td>\n",
       "      <td>Motor\\nvehicle\\ntheft</td>\n",
       "      <td>Arson3</td>\n",
       "      <td>nan</td>\n",
       "    </tr>\n",
       "    <tr>\n",
       "      <th>4</th>\n",
       "      <td>Adams Village</td>\n",
       "      <td>1861</td>\n",
       "      <td>0</td>\n",
       "      <td>0</td>\n",
       "      <td>NaN</td>\n",
       "      <td>0</td>\n",
       "      <td>0</td>\n",
       "      <td>0</td>\n",
       "      <td>12</td>\n",
       "      <td>2</td>\n",
       "      <td>10</td>\n",
       "      <td>0</td>\n",
       "      <td>0</td>\n",
       "      <td>nan</td>\n",
       "    </tr>\n",
       "  </tbody>\n",
       "</table>\n",
       "</div>"
      ],
      "text/plain": [
       "                            ﻿Table 8  Unnamed: 1      Unnamed: 2  \\\n",
       "0                           NEW YORK         NaN             NaN   \n",
       "1  Offenses Known to Law Enforcement         NaN             NaN   \n",
       "2                      by City, 2013         NaN             NaN   \n",
       "3                               City  Population  Violent\\ncrime   \n",
       "4                      Adams Village        1861               0   \n",
       "\n",
       "                               Unnamed: 3                    Unnamed: 4  \\\n",
       "0                                     NaN                           NaN   \n",
       "1                                     NaN                           NaN   \n",
       "2                                     NaN                           NaN   \n",
       "3  Murder and\\nnonnegligent\\nmanslaughter  Rape\\n(revised\\ndefinition)1   \n",
       "4                                       0                           NaN   \n",
       "\n",
       "                    Unnamed: 5 Unnamed: 6           Unnamed: 7  \\\n",
       "0                          NaN        NaN                  NaN   \n",
       "1                                     NaN                  NaN   \n",
       "2                          NaN        NaN                  NaN   \n",
       "3  Rape\\n(legacy\\ndefinition)2    Robbery  Aggravated\\nassault   \n",
       "4                            0          0                    0   \n",
       "\n",
       "        Unnamed: 8 Unnamed: 9      Unnamed: 10            Unnamed: 11  \\\n",
       "0              NaN        NaN              NaN                    NaN   \n",
       "1              NaN        NaN              NaN                    NaN   \n",
       "2              NaN        NaN              NaN                    NaN   \n",
       "3  Property\\ncrime   Burglary  Larceny-\\ntheft  Motor\\nvehicle\\ntheft   \n",
       "4               12          2               10                      0   \n",
       "\n",
       "  Unnamed: 12  Unnamed: 13  \n",
       "0         NaN          nan  \n",
       "1         NaN          nan  \n",
       "2         NaN          nan  \n",
       "3      Arson3          nan  \n",
       "4           0          nan  "
      ]
     },
     "metadata": {},
     "output_type": "display_data"
    },
    {
     "name": "stdout",
     "output_type": "stream",
     "text": [
      "Burglary        \n",
      "0         count      21\n",
      "          unique      1\n",
      "          top         0\n",
      "          freq       21\n",
      "1         count     327\n",
      "          unique    123\n",
      "          top         6\n",
      "          freq       15\n",
      "Name: Unnamed: 9, dtype: object\n",
      "Larceny        \n",
      "0        count       7\n",
      "         unique      1\n",
      "         top         0\n",
      "         freq        7\n",
      "1        count     341\n",
      "         unique    231\n",
      "         top        10\n",
      "         freq        6\n",
      "Name: Unnamed: 10, dtype: object\n",
      "Motor Vehicle        \n",
      "0              count      93\n",
      "               unique      1\n",
      "               top         0\n",
      "               freq       93\n",
      "1              count     255\n",
      "               unique     50\n",
      "               top         1\n",
      "               freq       54\n",
      "Name: Unnamed: 11, dtype: object\n",
      "Arson        \n",
      "0      count     294\n",
      "       unique      2\n",
      "       top         0\n",
      "       freq      161\n",
      "1      count      54\n",
      "       unique     12\n",
      "       top         1\n",
      "       freq       23\n",
      "Name: Unnamed: 12, dtype: object\n"
     ]
    }
   ],
   "source": [
    "import math\n",
    "import warnings\n",
    "import pandas as pd\n",
    "from IPython.display import display\n",
    "from matplotlib import pyplot as plt\n",
    "import numpy as np\n",
    "from sklearn import linear_model\n",
    "import seaborn as sns\n",
    "from sklearn.metrics import confusion_matrix\n",
    "from sklearn.model_selection import train_test_split\n",
    "from sklearn import datasets\n",
    "from sklearn import svm\n",
    "from scipy import stats\n",
    "import statsmodels.formula.api as smf\n",
    "%matplotlib inline\n",
    "pd.options.display.float_format = '{:.3f}'.format\n",
    "\n",
    "\n",
    "# Suppress annoying harmless error.\n",
    "warnings.filterwarnings(\n",
    "    action=\"ignore\",\n",
    "    module=\"scipy\",\n",
    "    message=\"^internal gelsd\"\n",
    ")\n",
    "\n",
    "crime = pd.read_csv('table_8_offenses_known_to_law_enforcement_new_york_by_city_2013.csv', sep=None, thousands=',', engine='python')\n",
    "\n",
    "\n",
    "# city = crime['Table 8'][4:352]\n",
    "population = crime['Unnamed: 1'][4:352]\n",
    "burglary = crime['Unnamed: 9'][4:352]\n",
    "larceny = crime['Unnamed: 10'][4:352]\n",
    "motor_vehicle_theft = crime['Unnamed: 11'][4:352]\n",
    "arson = crime['Unnamed: 12'][4:352].fillna(0)\n",
    "\n",
    "display(crime.head())\n",
    "\n",
    "# y = [murder]\n",
    "# x = [robbery]\n",
    "\n",
    "# plt.scatter(x, y)\n",
    "\n",
    "# print(x)\n",
    "features = pd.get_dummies(population)\n",
    "\n",
    "features['Population'] = population\n",
    "\n",
    "features['Population Squared'] = population.astype(int) **2\n",
    "\n",
    "features['Burglary'] = np.where(burglary.astype(int) > 0, 1, 0)\n",
    "\n",
    "# Check to make sure it worked.\n",
    "print(burglary.groupby(features['Burglary']).describe())\n",
    "\n",
    "features['Larceny'] = np.where(larceny.astype(int) > 0, 1, 0)\n",
    "\n",
    "# Check to make sure it worked.\n",
    "print(larceny.groupby(features['Larceny']).describe())\n",
    "\n",
    "features['Motor Vehicle'] = np.where(motor_vehicle_theft.astype(int) > 0, 1, 0)\n",
    "\n",
    "# Check to make sure it worked.\n",
    "print(motor_vehicle_theft.groupby(features['Motor Vehicle']).describe())\n",
    "\n",
    "features['Arson'] = np.where(arson.astype(int) > 0, 1, 0)\n",
    "\n",
    "# Check to make sure it worked.\n",
    "print(arson.groupby(features['Arson']).describe())\n",
    "\n"
   ]
  },
  {
   "cell_type": "code",
   "execution_count": 21,
   "metadata": {
    "collapsed": false
   },
   "outputs": [
    {
     "name": "stdout",
     "output_type": "stream",
     "text": [
      "\n",
      "Coefficients: \n",
      " [[  1.69515439e-02   3.70682040e+01  -3.17085630e+01   1.30141515e+02\n",
      "    2.69886279e+02]]\n",
      "\n",
      "Intercept: \n",
      " [-27.09516334]\n",
      "\n",
      "R-squared:\n",
      "0.992802886205\n"
     ]
    }
   ],
   "source": [
    "# Instantiate and fit our model.\n",
    "regr = linear_model.LinearRegression()\n",
    "Y = crime['Unnamed: 8'][4:352].values.reshape(-1, 1)\n",
    "X = features[['Population', 'Burglary','Larceny', 'Motor Vehicle', 'Arson']]\n",
    "# X_sqrd = X **2\n",
    "regr.fit(X, Y)\n",
    "\n",
    "# Inspect the results.\n",
    "print('\\nCoefficients: \\n', regr.coef_)\n",
    "print('\\nIntercept: \\n', regr.intercept_)\n",
    "print('\\nR-squared:')\n",
    "print(regr.score(X, Y))"
   ]
  },
  {
   "cell_type": "code",
   "execution_count": 22,
   "metadata": {
    "collapsed": false
   },
   "outputs": [
    {
     "data": {
      "image/png": "[encoded data removed]",
      "text/plain": [
       "<matplotlib.figure.Figure at 0x11c1a9400>"
      ]
     },
     "metadata": {},
     "output_type": "display_data"
    }
   ],
   "source": [
    "# Extract predicted values.\n",
    "predicted = regr.predict(X).ravel()\n",
    "actual = crime['Unnamed: 8'][4:352].astype(int)\n",
    "\n",
    "# Calculate the error, also called the residual.\n",
    "residual = actual - predicted\n",
    "\n",
    "# This looks a bit concerning.\n",
    "plt.hist(residual)\n",
    "plt.title('Residual counts')\n",
    "plt.xlabel('Residual')\n",
    "plt.ylabel('Count')\n",
    "plt.show()\n",
    "\n",
    "# print(actual)"
   ]
  },
  {
   "cell_type": "code",
   "execution_count": 23,
   "metadata": {
    "collapsed": false
   },
   "outputs": [
    {
     "data": {
      "image/png": "[encoded data removed]",
      "text/plain": [
       "<matplotlib.figure.Figure at 0x11ba78470>"
      ]
     },
     "metadata": {},
     "output_type": "display_data"
    }
   ],
   "source": [
    "plt.scatter(predicted, residual)\n",
    "plt.xlabel('Predicted')\n",
    "plt.ylabel('Residual')\n",
    "plt.axhline(y=0)\n",
    "plt.title('Residual vs. Predicted')\n",
    "plt.show()"
   ]
  },
  {
   "cell_type": "code",
   "execution_count": 24,
   "metadata": {
    "collapsed": false
   },
   "outputs": [
    {
     "data": {
      "text/html": [
       "<div>\n",
       "<table border=\"1\" class=\"dataframe\">\n",
       "  <thead>\n",
       "    <tr style=\"text-align: right;\">\n",
       "      <th></th>\n",
       "      <th>Burglary</th>\n",
       "      <th>Larceny</th>\n",
       "      <th>Motor Vehicle</th>\n",
       "      <th>Arson</th>\n",
       "    </tr>\n",
       "  </thead>\n",
       "  <tbody>\n",
       "    <tr>\n",
       "      <th>Burglary</th>\n",
       "      <td>1.000</td>\n",
       "      <td>0.479</td>\n",
       "      <td>0.338</td>\n",
       "      <td>0.075</td>\n",
       "    </tr>\n",
       "    <tr>\n",
       "      <th>Larceny</th>\n",
       "      <td>0.479</td>\n",
       "      <td>1.000</td>\n",
       "      <td>0.237</td>\n",
       "      <td>0.061</td>\n",
       "    </tr>\n",
       "    <tr>\n",
       "      <th>Motor Vehicle</th>\n",
       "      <td>0.338</td>\n",
       "      <td>0.237</td>\n",
       "      <td>1.000</td>\n",
       "      <td>0.169</td>\n",
       "    </tr>\n",
       "    <tr>\n",
       "      <th>Arson</th>\n",
       "      <td>0.075</td>\n",
       "      <td>0.061</td>\n",
       "      <td>0.169</td>\n",
       "      <td>1.000</td>\n",
       "    </tr>\n",
       "  </tbody>\n",
       "</table>\n",
       "</div>"
      ],
      "text/plain": [
       "               Burglary  Larceny  Motor Vehicle  Arson\n",
       "Burglary          1.000    0.479          0.338  0.075\n",
       "Larceny           0.479    1.000          0.237  0.061\n",
       "Motor Vehicle     0.338    0.237          1.000  0.169\n",
       "Arson             0.075    0.061          0.169  1.000"
      ]
     },
     "metadata": {},
     "output_type": "display_data"
    }
   ],
   "source": [
    "correlation_matrix = X.corr()\n",
    "display(correlation_matrix)"
   ]
  },
  {
   "cell_type": "code",
   "execution_count": null,
   "metadata": {
    "collapsed": true
   },
   "outputs": [],
   "source": []
  },
  {
   "cell_type": "code",
   "execution_count": 25,
   "metadata": {
    "collapsed": false
   },
   "outputs": [
    {
     "data": {
      "text/plain": [
       "<matplotlib.text.Text at 0x11c61ba58>"
      ]
     },
     "execution_count": 25,
     "metadata": {},
     "output_type": "execute_result"
    },
    {
     "data": {
      "image/png": "[encoded data removed]",
      "text/plain": [
       "<matplotlib.figure.Figure at 0x11c618940>"
      ]
     },
     "metadata": {},
     "output_type": "display_data"
    }
   ],
   "source": [
    "fig = plt.figure()\n",
    "ax1 = fig.add_subplot(211)\n",
    "xt, _ = stats.boxcox(actual.replace('0', actual.mean()))\n",
    "stats.probplot(xt, dist=stats.norm, plot=ax1)\n",
    "ax1.set_title('Probplot after Box-Cox transformation')"
   ]
  },
  {
   "cell_type": "code",
   "execution_count": 26,
   "metadata": {
    "collapsed": false
   },
   "outputs": [
    {
     "data": {
      "image/png": "[encoded data removed]",
      "text/plain": [
       "<matplotlib.figure.Figure at 0x11c512ba8>"
      ]
     },
     "metadata": {},
     "output_type": "display_data"
    }
   ],
   "source": [
    "actual2 = stats.boxcox(actual.replace('0', actual.mean()))\n",
    "\n",
    "residual2 = actual2[0] - predicted\n",
    "\n",
    "#Residual vs Predicted after Box-cox Transformation\n",
    "plt.scatter(predicted, residual2)\n",
    "plt.xlabel('Predicted')\n",
    "plt.ylabel('Residual')\n",
    "plt.axhline(y=0)\n",
    "plt.title('Residual vs. Predicted After Transformation')\n",
    "plt.show()\n",
    "\n",
    "# print(actual2[0])"
   ]
  },
  {
   "cell_type": "code",
   "execution_count": 27,
   "metadata": {
    "collapsed": false
   },
   "outputs": [
    {
     "data": {
      "image/png": "[encoded data removed]",
      "text/plain": [
       "<matplotlib.figure.Figure at 0x11c632ac8>"
      ]
     },
     "metadata": {},
     "output_type": "display_data"
    }
   ],
   "source": [
    "plt.hist(residual2)\n",
    "plt.title('Residual counts after Transformation')\n",
    "plt.xlabel('Residual')\n",
    "plt.ylabel('Count')\n",
    "plt.show()"
   ]
  }
 ],
 "metadata": {
  "kernelspec": {
   "display_name": "Python 3",
   "language": "python",
   "name": "python3"
  },
  "language_info": {
   "codemirror_mode": {
    "name": "ipython",
    "version": 3
   },
   "file_extension": ".py",
   "mimetype": "text/x-python",
   "name": "python",
   "nbconvert_exporter": "python",
   "pygments_lexer": "ipython3",
   "version": "3.6.0"
  }
 },
 "nbformat": 4,
 "nbformat_minor": 2
}
